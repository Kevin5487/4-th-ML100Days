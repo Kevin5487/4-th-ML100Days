{
 "cells": [
  {
   "cell_type": "code",
   "execution_count": null,
   "metadata": {},
   "outputs": [],
   "source": [
    "#請找出一個你認為機器學習可以發光發熱的領域並闡述原因?\n",
    "#製造業，可以利用機器學習及時發現製程中的錯誤信號並加以隔離或是發出警示，讓程序控制員能夠快速反應\n",
    "#，減少生產中的風險與加強品質管理。"
   ]
  }
 ],
 "metadata": {
  "kernelspec": {
   "display_name": "Python 3",
   "language": "python",
   "name": "python3"
  },
  "language_info": {
   "codemirror_mode": {
    "name": "ipython",
    "version": 3
   },
   "file_extension": ".py",
   "mimetype": "text/x-python",
   "name": "python",
   "nbconvert_exporter": "python",
   "pygments_lexer": "ipython3",
   "version": "3.7.4"
  }
 },
 "nbformat": 4,
 "nbformat_minor": 4
}
